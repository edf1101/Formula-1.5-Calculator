{
 "cells": [
  {
   "cell_type": "markdown",
   "id": "d71b4651",
   "metadata": {},
   "source": [
    "# Notebook for F1.5 Calculator Testing\n",
    "\n",
    "\n",
    "## Library Importing"
   ]
  },
  {
   "cell_type": "code",
   "execution_count": 2,
   "id": "4fe16f1a",
   "metadata": {
    "ExecuteTime": {
     "end_time": "2023-10-04T14:19:23.911293Z",
     "start_time": "2023-10-04T14:19:23.566086Z"
    }
   },
   "outputs": [],
   "source": [
    "import pandas as pd"
   ]
  },
  {
   "cell_type": "markdown",
   "id": "63d656de",
   "metadata": {},
   "source": [
    "## setup data"
   ]
  },
  {
   "cell_type": "code",
   "execution_count": 3,
   "id": "f1734d33",
   "metadata": {
    "ExecuteTime": {
     "end_time": "2023-10-04T14:19:26.838902Z",
     "start_time": "2023-10-04T14:19:26.834387Z"
    }
   },
   "outputs": [],
   "source": [
    "race_data_address = \"Formula1_2023season_raceResults.csv\"\n",
    "sprint_data_address = \"\"\n"
   ]
  },
  {
   "cell_type": "code",
   "execution_count": 5,
   "id": "3a2cfb63",
   "metadata": {
    "scrolled": true,
    "ExecuteTime": {
     "end_time": "2023-10-04T14:19:36.429772Z",
     "start_time": "2023-10-04T14:19:36.418375Z"
    }
   },
   "outputs": [
    {
     "data": {
      "text/plain": "      Track Position  No           Driver                          Team  \\\n0   Bahrain        1   1   Max Verstappen    Red Bull Racing Honda RBPT   \n1   Bahrain        2  11     Sergio Perez    Red Bull Racing Honda RBPT   \n2   Bahrain        3  14  Fernando Alonso  Aston Martin Aramco Mercedes   \n3   Bahrain        4  55     Carlos Sainz                       Ferrari   \n4   Bahrain        5  44   Lewis Hamilton                      Mercedes   \n5   Bahrain        6  18     Lance Stroll  Aston Martin Aramco Mercedes   \n6   Bahrain        7  63   George Russell                      Mercedes   \n7   Bahrain        8  77  Valtteri Bottas            Alfa Romeo Ferrari   \n8   Bahrain        9  10     Pierre Gasly                Alpine Renault   \n9   Bahrain       10  23  Alexander Albon             Williams Mercedes   \n10  Bahrain       11  22     Yuki Tsunoda         AlphaTauri Honda RBPT   \n11  Bahrain       12   2   Logan Sargeant             Williams Mercedes   \n12  Bahrain       13  20  Kevin Magnussen                  Haas Ferrari   \n13  Bahrain       14  21    Nyck De Vries         AlphaTauri Honda RBPT   \n14  Bahrain       15  27  Nico Hulkenberg                  Haas Ferrari   \n15  Bahrain       16  24      Guanyu Zhou            Alfa Romeo Ferrari   \n16  Bahrain       17   4     Lando Norris              McLaren Mercedes   \n17  Bahrain       NC  31     Esteban Ocon                Alpine Renault   \n18  Bahrain       NC  16  Charles Leclerc                       Ferrari   \n19  Bahrain       NC  81    Oscar Piastri              McLaren Mercedes   \n\n    Starting Grid  Laps Time/Retired  Points Set Fastest Lap Fastest Lap Time  \n0               1    57  1:33:56.736      25              No         1:36.236  \n1               2    57      +11.987      18              No         1:36.344  \n2               5    57      +38.637      15              No         1:36.156  \n3               4    57      +48.052      12              No         1:37.130  \n4               7    57      +50.977      10              No         1:36.546  \n5               8    57      +54.502       8              No         1:36.546  \n6               6    57      +55.873       6              No         1:37.221  \n7              12    57      +72.647       4              No         1:37.379  \n8              20    57      +73.753       2              No         1:35.068  \n9              15    57      +89.774       1              No         1:37.144  \n10             14    57      +90.870       0              No         1:36.637  \n11             16    56       +1 lap       0              No         1:36.037  \n12             17    56       +1 lap       0              No         1:36.471  \n13             19    56       +1 lap       0              No         1:37.709  \n14             10    56       +1 lap       0              No         1:36.616  \n15             13    56       +1 lap       0             Yes         1:33.996  \n16             11    55      +2 laps       0              No         1:35.822  \n17              9    41          DNF       0              No         1:36.797  \n18              3    39          DNF       0              No         1:37.170  \n19             18    13          DNF       0              No         1:40.691  ",
      "text/html": "<div>\n<style scoped>\n    .dataframe tbody tr th:only-of-type {\n        vertical-align: middle;\n    }\n\n    .dataframe tbody tr th {\n        vertical-align: top;\n    }\n\n    .dataframe thead th {\n        text-align: right;\n    }\n</style>\n<table border=\"1\" class=\"dataframe\">\n  <thead>\n    <tr style=\"text-align: right;\">\n      <th></th>\n      <th>Track</th>\n      <th>Position</th>\n      <th>No</th>\n      <th>Driver</th>\n      <th>Team</th>\n      <th>Starting Grid</th>\n      <th>Laps</th>\n      <th>Time/Retired</th>\n      <th>Points</th>\n      <th>Set Fastest Lap</th>\n      <th>Fastest Lap Time</th>\n    </tr>\n  </thead>\n  <tbody>\n    <tr>\n      <th>0</th>\n      <td>Bahrain</td>\n      <td>1</td>\n      <td>1</td>\n      <td>Max Verstappen</td>\n      <td>Red Bull Racing Honda RBPT</td>\n      <td>1</td>\n      <td>57</td>\n      <td>1:33:56.736</td>\n      <td>25</td>\n      <td>No</td>\n      <td>1:36.236</td>\n    </tr>\n    <tr>\n      <th>1</th>\n      <td>Bahrain</td>\n      <td>2</td>\n      <td>11</td>\n      <td>Sergio Perez</td>\n      <td>Red Bull Racing Honda RBPT</td>\n      <td>2</td>\n      <td>57</td>\n      <td>+11.987</td>\n      <td>18</td>\n      <td>No</td>\n      <td>1:36.344</td>\n    </tr>\n    <tr>\n      <th>2</th>\n      <td>Bahrain</td>\n      <td>3</td>\n      <td>14</td>\n      <td>Fernando Alonso</td>\n      <td>Aston Martin Aramco Mercedes</td>\n      <td>5</td>\n      <td>57</td>\n      <td>+38.637</td>\n      <td>15</td>\n      <td>No</td>\n      <td>1:36.156</td>\n    </tr>\n    <tr>\n      <th>3</th>\n      <td>Bahrain</td>\n      <td>4</td>\n      <td>55</td>\n      <td>Carlos Sainz</td>\n      <td>Ferrari</td>\n      <td>4</td>\n      <td>57</td>\n      <td>+48.052</td>\n      <td>12</td>\n      <td>No</td>\n      <td>1:37.130</td>\n    </tr>\n    <tr>\n      <th>4</th>\n      <td>Bahrain</td>\n      <td>5</td>\n      <td>44</td>\n      <td>Lewis Hamilton</td>\n      <td>Mercedes</td>\n      <td>7</td>\n      <td>57</td>\n      <td>+50.977</td>\n      <td>10</td>\n      <td>No</td>\n      <td>1:36.546</td>\n    </tr>\n    <tr>\n      <th>5</th>\n      <td>Bahrain</td>\n      <td>6</td>\n      <td>18</td>\n      <td>Lance Stroll</td>\n      <td>Aston Martin Aramco Mercedes</td>\n      <td>8</td>\n      <td>57</td>\n      <td>+54.502</td>\n      <td>8</td>\n      <td>No</td>\n      <td>1:36.546</td>\n    </tr>\n    <tr>\n      <th>6</th>\n      <td>Bahrain</td>\n      <td>7</td>\n      <td>63</td>\n      <td>George Russell</td>\n      <td>Mercedes</td>\n      <td>6</td>\n      <td>57</td>\n      <td>+55.873</td>\n      <td>6</td>\n      <td>No</td>\n      <td>1:37.221</td>\n    </tr>\n    <tr>\n      <th>7</th>\n      <td>Bahrain</td>\n      <td>8</td>\n      <td>77</td>\n      <td>Valtteri Bottas</td>\n      <td>Alfa Romeo Ferrari</td>\n      <td>12</td>\n      <td>57</td>\n      <td>+72.647</td>\n      <td>4</td>\n      <td>No</td>\n      <td>1:37.379</td>\n    </tr>\n    <tr>\n      <th>8</th>\n      <td>Bahrain</td>\n      <td>9</td>\n      <td>10</td>\n      <td>Pierre Gasly</td>\n      <td>Alpine Renault</td>\n      <td>20</td>\n      <td>57</td>\n      <td>+73.753</td>\n      <td>2</td>\n      <td>No</td>\n      <td>1:35.068</td>\n    </tr>\n    <tr>\n      <th>9</th>\n      <td>Bahrain</td>\n      <td>10</td>\n      <td>23</td>\n      <td>Alexander Albon</td>\n      <td>Williams Mercedes</td>\n      <td>15</td>\n      <td>57</td>\n      <td>+89.774</td>\n      <td>1</td>\n      <td>No</td>\n      <td>1:37.144</td>\n    </tr>\n    <tr>\n      <th>10</th>\n      <td>Bahrain</td>\n      <td>11</td>\n      <td>22</td>\n      <td>Yuki Tsunoda</td>\n      <td>AlphaTauri Honda RBPT</td>\n      <td>14</td>\n      <td>57</td>\n      <td>+90.870</td>\n      <td>0</td>\n      <td>No</td>\n      <td>1:36.637</td>\n    </tr>\n    <tr>\n      <th>11</th>\n      <td>Bahrain</td>\n      <td>12</td>\n      <td>2</td>\n      <td>Logan Sargeant</td>\n      <td>Williams Mercedes</td>\n      <td>16</td>\n      <td>56</td>\n      <td>+1 lap</td>\n      <td>0</td>\n      <td>No</td>\n      <td>1:36.037</td>\n    </tr>\n    <tr>\n      <th>12</th>\n      <td>Bahrain</td>\n      <td>13</td>\n      <td>20</td>\n      <td>Kevin Magnussen</td>\n      <td>Haas Ferrari</td>\n      <td>17</td>\n      <td>56</td>\n      <td>+1 lap</td>\n      <td>0</td>\n      <td>No</td>\n      <td>1:36.471</td>\n    </tr>\n    <tr>\n      <th>13</th>\n      <td>Bahrain</td>\n      <td>14</td>\n      <td>21</td>\n      <td>Nyck De Vries</td>\n      <td>AlphaTauri Honda RBPT</td>\n      <td>19</td>\n      <td>56</td>\n      <td>+1 lap</td>\n      <td>0</td>\n      <td>No</td>\n      <td>1:37.709</td>\n    </tr>\n    <tr>\n      <th>14</th>\n      <td>Bahrain</td>\n      <td>15</td>\n      <td>27</td>\n      <td>Nico Hulkenberg</td>\n      <td>Haas Ferrari</td>\n      <td>10</td>\n      <td>56</td>\n      <td>+1 lap</td>\n      <td>0</td>\n      <td>No</td>\n      <td>1:36.616</td>\n    </tr>\n    <tr>\n      <th>15</th>\n      <td>Bahrain</td>\n      <td>16</td>\n      <td>24</td>\n      <td>Guanyu Zhou</td>\n      <td>Alfa Romeo Ferrari</td>\n      <td>13</td>\n      <td>56</td>\n      <td>+1 lap</td>\n      <td>0</td>\n      <td>Yes</td>\n      <td>1:33.996</td>\n    </tr>\n    <tr>\n      <th>16</th>\n      <td>Bahrain</td>\n      <td>17</td>\n      <td>4</td>\n      <td>Lando Norris</td>\n      <td>McLaren Mercedes</td>\n      <td>11</td>\n      <td>55</td>\n      <td>+2 laps</td>\n      <td>0</td>\n      <td>No</td>\n      <td>1:35.822</td>\n    </tr>\n    <tr>\n      <th>17</th>\n      <td>Bahrain</td>\n      <td>NC</td>\n      <td>31</td>\n      <td>Esteban Ocon</td>\n      <td>Alpine Renault</td>\n      <td>9</td>\n      <td>41</td>\n      <td>DNF</td>\n      <td>0</td>\n      <td>No</td>\n      <td>1:36.797</td>\n    </tr>\n    <tr>\n      <th>18</th>\n      <td>Bahrain</td>\n      <td>NC</td>\n      <td>16</td>\n      <td>Charles Leclerc</td>\n      <td>Ferrari</td>\n      <td>3</td>\n      <td>39</td>\n      <td>DNF</td>\n      <td>0</td>\n      <td>No</td>\n      <td>1:37.170</td>\n    </tr>\n    <tr>\n      <th>19</th>\n      <td>Bahrain</td>\n      <td>NC</td>\n      <td>81</td>\n      <td>Oscar Piastri</td>\n      <td>McLaren Mercedes</td>\n      <td>18</td>\n      <td>13</td>\n      <td>DNF</td>\n      <td>0</td>\n      <td>No</td>\n      <td>1:40.691</td>\n    </tr>\n  </tbody>\n</table>\n</div>"
     },
     "execution_count": 5,
     "metadata": {},
     "output_type": "execute_result"
    }
   ],
   "source": [
    "race_data = pd.read_csv(race_data_address)\n",
    "race_data.head(20)"
   ]
  },
  {
   "cell_type": "markdown",
   "id": "37f2da46",
   "metadata": {},
   "source": [
    "## Getting All tracks, drivers and teams in the dataset"
   ]
  },
  {
   "cell_type": "code",
   "execution_count": 4,
   "id": "af363af6",
   "metadata": {
    "scrolled": false
   },
   "outputs": [
    {
     "data": {
      "text/plain": [
       "['Aston Martin Aramco Mercedes',\n",
       " 'Ferrari',\n",
       " 'Mercedes',\n",
       " 'Alfa Romeo Ferrari',\n",
       " 'Alpine Renault',\n",
       " 'Williams Mercedes',\n",
       " 'AlphaTauri Honda RBPT',\n",
       " 'Haas Ferrari',\n",
       " 'McLaren Mercedes',\n",
       " 'AlphaTauri Honda RPBT']"
      ]
     },
     "execution_count": 4,
     "metadata": {},
     "output_type": "execute_result"
    }
   ],
   "source": [
    "banned_teams =['Red Bull Racing Honda RBPT']\n",
    "\n",
    "all_races = list( dict.fromkeys(race_data['Track']) )\n",
    "all_teams = list( dict.fromkeys(race_data[(~race_data['Team'].isin(banned_teams))]['Team']) )\n",
    "all_drivers = list( dict.fromkeys(race_data[(~race_data['Team'].isin(banned_teams))]['Driver']) )\n",
    "all_teams "
   ]
  },
  {
   "cell_type": "markdown",
   "id": "fe3081a3",
   "metadata": {},
   "source": [
    "## Create Driver Scoring Table"
   ]
  },
  {
   "cell_type": "code",
   "execution_count": 5,
   "id": "638a223d",
   "metadata": {},
   "outputs": [],
   "source": [
    "class standings:\n",
    "    def __init__(self):\n",
    "        temp_data= {'Driver': all_drivers,\n",
    "                    'Points':[0]*len(all_drivers)}\n",
    "        self.driverTable= pd.DataFrame(temp_data).set_index('Driver')\n",
    "        \n",
    "        temp_data= {'Team': all_teams,\n",
    "                    'Points':[0]*len(all_teams)}\n",
    "        self.constructorTable= pd.DataFrame(temp_data).set_index('Team')\n",
    "        \n",
    "        \n",
    "    def add_to_standings(self,data):\n",
    "        for i in data.index:\n",
    "#             print(i)\n",
    "#             print(data['Points'][i])\n",
    "            self.driverTable['Points'][i]+=data['Points'][i]\n",
    "            self.constructorTable['Points'][data['Team'][i]]+=data['Points'][i]\n",
    "    \n",
    "        self.driverTable=self.driverTable.sort_values('Points',ascending=False)\n",
    "        self.constructorTable=self.constructorTable.sort_values('Points',ascending=False)\n",
    "\n",
    "                             \n",
    "            "
   ]
  },
  {
   "cell_type": "markdown",
   "id": "af7b02c4",
   "metadata": {},
   "source": [
    "## Getting Race data for a specific track and excluding banned teams"
   ]
  },
  {
   "cell_type": "code",
   "execution_count": 6,
   "id": "ee138b33",
   "metadata": {},
   "outputs": [],
   "source": [
    "\n",
    "\n",
    "interesting_columns = ['Track','Position','Driver','Team','Points','Fastest Lap Time']\n",
    "\n",
    "def get_race_data(race):\n",
    "    _specific_race_data =race_data[(race_data['Track']== race) &(~race_data['Team'].isin(banned_teams))].filter(interesting_columns).copy()\n",
    "    \n",
    "    return _specific_race_data\n",
    "\n",
    "#specific_race_data = get_race_data(all_races[1])\n",
    "#specific_race_data"
   ]
  },
  {
   "cell_type": "markdown",
   "id": "29860f7b",
   "metadata": {},
   "source": [
    "## Redo positions"
   ]
  },
  {
   "cell_type": "code",
   "execution_count": 7,
   "id": "09d315c5",
   "metadata": {},
   "outputs": [],
   "source": [
    "def redo_positions(_specific_race_data):\n",
    "    \n",
    "    not_classified_count = _specific_race_data['Position'].tolist().count('NC')\n",
    "    drivers_in_race = len(_specific_race_data['Position']) - not_classified_count\n",
    "    new_positions = list(range(1,drivers_in_race+1)) + (['NC'] * not_classified_count)\n",
    "    _specific_race_data['Position']=new_positions\n",
    "    \n",
    "    return  _specific_race_data.copy()\n",
    "\n",
    "#specific_race_data = redo_positions(specific_race_data)\n"
   ]
  },
  {
   "cell_type": "markdown",
   "id": "d421d003",
   "metadata": {},
   "source": [
    "## Get Fastest Lap Driver"
   ]
  },
  {
   "cell_type": "code",
   "execution_count": 8,
   "id": "036bdd5c",
   "metadata": {},
   "outputs": [],
   "source": [
    "def get_fastest_driver(_specific_race_data):\n",
    "    fastest_lap = _specific_race_data['Fastest Lap Time'].sort_values().iloc[0]\n",
    "    _fastest_driver = _specific_race_data[(_specific_race_data['Fastest Lap Time'] == fastest_lap)]\n",
    "    return _fastest_driver\n",
    "#fastest_driver = get_fastest_driver(specific_race_data)"
   ]
  },
  {
   "cell_type": "markdown",
   "id": "7b1bbc29",
   "metadata": {},
   "source": [
    "## Get Points per driver"
   ]
  },
  {
   "cell_type": "code",
   "execution_count": 9,
   "id": "0a5ee9ea",
   "metadata": {},
   "outputs": [],
   "source": [
    "# This should be adjusted for sprints where points are different\n",
    "# The 100 at the end creates 100 0 point positions meaning this in theory supports 110 drivers before list size error\n",
    "\n",
    "points_race = [25,18,15,12,10,8,6,4,2,1]+([0]*100)\n",
    "\n",
    "\n",
    "def make_scoreboard(_specific_race_data, _fastest_driver):\n",
    "    not_classified_count = _specific_race_data['Position'].tolist().count('NC')\n",
    "    drivers_in_race = len(_specific_race_data['Position']) - not_classified_count\n",
    "    new_points = [0] * (not_classified_count + drivers_in_race)\n",
    "\n",
    "\n",
    "    # add points for all classified drivers\n",
    "    for i in range(drivers_in_race):\n",
    "        position = _specific_race_data.iloc[i]['Position']\n",
    "        new_points[i] = points_race[position-1]\n",
    "\n",
    "    \n",
    "\n",
    "\n",
    "    if(isinstance(_fastest_driver['Position'].iloc[0],int)   and _fastest_driver['Position'].iloc[0]<=10 ):\n",
    "        new_points[_fastest_driver['Position'].iloc[0]-1] +=1\n",
    "\n",
    "\n",
    "    _specific_race_data['Points'] = new_points\n",
    "    _specific_race_data = _specific_race_data.copy()\n",
    "    return _specific_race_data\n",
    "#specific_race_data = make_scoreboard(specific_race_data)"
   ]
  },
  {
   "cell_type": "markdown",
   "id": "0517f6bc",
   "metadata": {},
   "source": [
    "## Function for getting scoreboard per race"
   ]
  },
  {
   "cell_type": "code",
   "execution_count": 10,
   "id": "ebd9e7f7",
   "metadata": {},
   "outputs": [],
   "source": [
    "def scoreboard(race):\n",
    "    _race_data= get_race_data(race)\n",
    "    _race_data = redo_positions(_race_data)\n",
    "    __fastest_driver = get_fastest_driver(_race_data)\n",
    "    return make_scoreboard(_race_data,__fastest_driver).filter(['Driver','Team','Points']).set_index('Driver')\n",
    "\n",
    "\n"
   ]
  },
  {
   "cell_type": "markdown",
   "source": [
    "## Compile standings"
   ],
   "metadata": {
    "collapsed": false
   },
   "id": "56a28aa043889936"
  },
  {
   "cell_type": "code",
   "execution_count": 12,
   "id": "e465832c",
   "metadata": {},
   "outputs": [
    {
     "data": {
      "text/html": [
       "<div>\n",
       "<style scoped>\n",
       "    .dataframe tbody tr th:only-of-type {\n",
       "        vertical-align: middle;\n",
       "    }\n",
       "\n",
       "    .dataframe tbody tr th {\n",
       "        vertical-align: top;\n",
       "    }\n",
       "\n",
       "    .dataframe thead th {\n",
       "        text-align: right;\n",
       "    }\n",
       "</style>\n",
       "<table border=\"1\" class=\"dataframe\">\n",
       "  <thead>\n",
       "    <tr style=\"text-align: right;\">\n",
       "      <th></th>\n",
       "      <th>Points</th>\n",
       "    </tr>\n",
       "    <tr>\n",
       "      <th>Team</th>\n",
       "      <th></th>\n",
       "    </tr>\n",
       "  </thead>\n",
       "  <tbody>\n",
       "    <tr>\n",
       "      <th>Mercedes</th>\n",
       "      <td>409</td>\n",
       "    </tr>\n",
       "    <tr>\n",
       "      <th>Ferrari</th>\n",
       "      <td>377</td>\n",
       "    </tr>\n",
       "    <tr>\n",
       "      <th>Aston Martin Aramco Mercedes</th>\n",
       "      <td>331</td>\n",
       "    </tr>\n",
       "    <tr>\n",
       "      <th>McLaren Mercedes</th>\n",
       "      <td>241</td>\n",
       "    </tr>\n",
       "    <tr>\n",
       "      <th>Alpine Renault</th>\n",
       "      <td>133</td>\n",
       "    </tr>\n",
       "    <tr>\n",
       "      <th>Williams Mercedes</th>\n",
       "      <td>50</td>\n",
       "    </tr>\n",
       "    <tr>\n",
       "      <th>Alfa Romeo Ferrari</th>\n",
       "      <td>36</td>\n",
       "    </tr>\n",
       "    <tr>\n",
       "      <th>AlphaTauri Honda RBPT</th>\n",
       "      <td>28</td>\n",
       "    </tr>\n",
       "    <tr>\n",
       "      <th>Haas Ferrari</th>\n",
       "      <td>24</td>\n",
       "    </tr>\n",
       "    <tr>\n",
       "      <th>AlphaTauri Honda RPBT</th>\n",
       "      <td>0</td>\n",
       "    </tr>\n",
       "  </tbody>\n",
       "</table>\n",
       "</div>"
      ],
      "text/plain": [
       "                              Points\n",
       "Team                                \n",
       "Mercedes                         409\n",
       "Ferrari                          377\n",
       "Aston Martin Aramco Mercedes     331\n",
       "McLaren Mercedes                 241\n",
       "Alpine Renault                   133\n",
       "Williams Mercedes                 50\n",
       "Alfa Romeo Ferrari                36\n",
       "AlphaTauri Honda RBPT             28\n",
       "Haas Ferrari                      24\n",
       "AlphaTauri Honda RPBT              0"
      ]
     },
     "execution_count": 12,
     "metadata": {},
     "output_type": "execute_result"
    }
   ],
   "source": [
    "DriverTable = standings()\n",
    "\n",
    "for i in all_races:\n",
    "    DriverTable.add_to_standings(scoreboard(i))\n",
    "\n",
    "\n",
    "DriverTable.constructorTable"
   ]
  },
  {
   "cell_type": "code",
   "execution_count": null,
   "id": "db98988e",
   "metadata": {},
   "outputs": [],
   "source": []
  }
 ],
 "metadata": {
  "kernelspec": {
   "display_name": "Python 3 (ipykernel)",
   "language": "python",
   "name": "python3"
  },
  "language_info": {
   "codemirror_mode": {
    "name": "ipython",
    "version": 3
   },
   "file_extension": ".py",
   "mimetype": "text/x-python",
   "name": "python",
   "nbconvert_exporter": "python",
   "pygments_lexer": "ipython3",
   "version": "3.11.4"
  }
 },
 "nbformat": 4,
 "nbformat_minor": 5
}
