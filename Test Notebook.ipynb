{
 "cells": [
  {
   "cell_type": "markdown",
   "id": "d71b4651",
   "metadata": {},
   "source": [
    "# Notebook for F1.5 Calculator Testing\n",
    "\n",
    "\n",
    "## Library Importing"
   ]
  },
  {
   "cell_type": "code",
   "execution_count": 1,
   "id": "4fe16f1a",
   "metadata": {},
   "outputs": [],
   "source": [
    "import pandas as pd"
   ]
  },
  {
   "cell_type": "markdown",
   "id": "63d656de",
   "metadata": {},
   "source": [
    "## setup data"
   ]
  },
  {
   "cell_type": "code",
   "execution_count": 2,
   "id": "f1734d33",
   "metadata": {},
   "outputs": [],
   "source": [
    "race_data_address = \"Formula1_2023season_raceResults.csv\"\n",
    "sprint_data_address = \"\"\n"
   ]
  },
  {
   "cell_type": "code",
   "execution_count": 3,
   "id": "3a2cfb63",
   "metadata": {
    "scrolled": true
   },
   "outputs": [
    {
     "data": {
      "text/html": [
       "<div>\n",
       "<style scoped>\n",
       "    .dataframe tbody tr th:only-of-type {\n",
       "        vertical-align: middle;\n",
       "    }\n",
       "\n",
       "    .dataframe tbody tr th {\n",
       "        vertical-align: top;\n",
       "    }\n",
       "\n",
       "    .dataframe thead th {\n",
       "        text-align: right;\n",
       "    }\n",
       "</style>\n",
       "<table border=\"1\" class=\"dataframe\">\n",
       "  <thead>\n",
       "    <tr style=\"text-align: right;\">\n",
       "      <th></th>\n",
       "      <th>Track</th>\n",
       "      <th>Position</th>\n",
       "      <th>No</th>\n",
       "      <th>Driver</th>\n",
       "      <th>Team</th>\n",
       "      <th>Starting Grid</th>\n",
       "      <th>Laps</th>\n",
       "      <th>Time/Retired</th>\n",
       "      <th>Points</th>\n",
       "      <th>Set Fastest Lap</th>\n",
       "      <th>Fastest Lap Time</th>\n",
       "    </tr>\n",
       "  </thead>\n",
       "  <tbody>\n",
       "    <tr>\n",
       "      <th>0</th>\n",
       "      <td>Bahrain</td>\n",
       "      <td>1</td>\n",
       "      <td>1</td>\n",
       "      <td>Max Verstappen</td>\n",
       "      <td>Red Bull Racing Honda RBPT</td>\n",
       "      <td>1</td>\n",
       "      <td>57</td>\n",
       "      <td>1:33:56.736</td>\n",
       "      <td>25</td>\n",
       "      <td>No</td>\n",
       "      <td>1:36.236</td>\n",
       "    </tr>\n",
       "    <tr>\n",
       "      <th>1</th>\n",
       "      <td>Bahrain</td>\n",
       "      <td>2</td>\n",
       "      <td>11</td>\n",
       "      <td>Sergio Perez</td>\n",
       "      <td>Red Bull Racing Honda RBPT</td>\n",
       "      <td>2</td>\n",
       "      <td>57</td>\n",
       "      <td>+11.987</td>\n",
       "      <td>18</td>\n",
       "      <td>No</td>\n",
       "      <td>1:36.344</td>\n",
       "    </tr>\n",
       "    <tr>\n",
       "      <th>2</th>\n",
       "      <td>Bahrain</td>\n",
       "      <td>3</td>\n",
       "      <td>14</td>\n",
       "      <td>Fernando Alonso</td>\n",
       "      <td>Aston Martin Aramco Mercedes</td>\n",
       "      <td>5</td>\n",
       "      <td>57</td>\n",
       "      <td>+38.637</td>\n",
       "      <td>15</td>\n",
       "      <td>No</td>\n",
       "      <td>1:36.156</td>\n",
       "    </tr>\n",
       "    <tr>\n",
       "      <th>3</th>\n",
       "      <td>Bahrain</td>\n",
       "      <td>4</td>\n",
       "      <td>55</td>\n",
       "      <td>Carlos Sainz</td>\n",
       "      <td>Ferrari</td>\n",
       "      <td>4</td>\n",
       "      <td>57</td>\n",
       "      <td>+48.052</td>\n",
       "      <td>12</td>\n",
       "      <td>No</td>\n",
       "      <td>1:37.130</td>\n",
       "    </tr>\n",
       "    <tr>\n",
       "      <th>4</th>\n",
       "      <td>Bahrain</td>\n",
       "      <td>5</td>\n",
       "      <td>44</td>\n",
       "      <td>Lewis Hamilton</td>\n",
       "      <td>Mercedes</td>\n",
       "      <td>7</td>\n",
       "      <td>57</td>\n",
       "      <td>+50.977</td>\n",
       "      <td>10</td>\n",
       "      <td>No</td>\n",
       "      <td>1:36.546</td>\n",
       "    </tr>\n",
       "  </tbody>\n",
       "</table>\n",
       "</div>"
      ],
      "text/plain": [
       "     Track Position  No           Driver                          Team  \\\n",
       "0  Bahrain        1   1   Max Verstappen    Red Bull Racing Honda RBPT   \n",
       "1  Bahrain        2  11     Sergio Perez    Red Bull Racing Honda RBPT   \n",
       "2  Bahrain        3  14  Fernando Alonso  Aston Martin Aramco Mercedes   \n",
       "3  Bahrain        4  55     Carlos Sainz                       Ferrari   \n",
       "4  Bahrain        5  44   Lewis Hamilton                      Mercedes   \n",
       "\n",
       "   Starting Grid  Laps Time/Retired  Points Set Fastest Lap Fastest Lap Time  \n",
       "0              1    57  1:33:56.736      25              No         1:36.236  \n",
       "1              2    57      +11.987      18              No         1:36.344  \n",
       "2              5    57      +38.637      15              No         1:36.156  \n",
       "3              4    57      +48.052      12              No         1:37.130  \n",
       "4              7    57      +50.977      10              No         1:36.546  "
      ]
     },
     "execution_count": 3,
     "metadata": {},
     "output_type": "execute_result"
    }
   ],
   "source": [
    "race_data = pd.read_csv(race_data_address)\n",
    "race_data.head()"
   ]
  },
  {
   "cell_type": "markdown",
   "id": "37f2da46",
   "metadata": {},
   "source": [
    "## Getting All tracks, drivers and teams in the dataset"
   ]
  },
  {
   "cell_type": "code",
   "execution_count": 4,
   "id": "af363af6",
   "metadata": {
    "scrolled": false
   },
   "outputs": [
    {
     "data": {
      "text/plain": [
       "['Aston Martin Aramco Mercedes',\n",
       " 'Ferrari',\n",
       " 'Mercedes',\n",
       " 'Alfa Romeo Ferrari',\n",
       " 'Alpine Renault',\n",
       " 'Williams Mercedes',\n",
       " 'AlphaTauri Honda RBPT',\n",
       " 'Haas Ferrari',\n",
       " 'McLaren Mercedes',\n",
       " 'AlphaTauri Honda RPBT']"
      ]
     },
     "execution_count": 4,
     "metadata": {},
     "output_type": "execute_result"
    }
   ],
   "source": [
    "banned_teams =['Red Bull Racing Honda RBPT']\n",
    "\n",
    "all_races = list( dict.fromkeys(race_data['Track']) )\n",
    "all_teams = list( dict.fromkeys(race_data[(~race_data['Team'].isin(banned_teams))]['Team']) )\n",
    "all_drivers = list( dict.fromkeys(race_data[(~race_data['Team'].isin(banned_teams))]['Driver']) )\n",
    "all_teams "
   ]
  },
  {
   "cell_type": "markdown",
   "id": "fe3081a3",
   "metadata": {},
   "source": [
    "## Create Driver Scoring Table"
   ]
  },
  {
   "cell_type": "code",
   "execution_count": 5,
   "id": "638a223d",
   "metadata": {},
   "outputs": [],
   "source": [
    "class standings:\n",
    "    def __init__(self):\n",
    "        temp_data= {'Driver': all_drivers,\n",
    "                    'Points':[0]*len(all_drivers)}\n",
    "        self.driverTable= pd.DataFrame(temp_data).set_index('Driver')\n",
    "        \n",
    "        temp_data= {'Team': all_teams,\n",
    "                    'Points':[0]*len(all_teams)}\n",
    "        self.constructorTable= pd.DataFrame(temp_data).set_index('Team')\n",
    "        \n",
    "        \n",
    "    def add_to_standings(self,data):\n",
    "        for i in data.index:\n",
    "#             print(i)\n",
    "#             print(data['Points'][i])\n",
    "            self.driverTable['Points'][i]+=data['Points'][i]\n",
    "            self.constructorTable['Points'][data['Team'][i]]+=data['Points'][i]\n",
    "    \n",
    "        self.driverTable=self.driverTable.sort_values('Points',ascending=False)\n",
    "        self.constructorTable=self.constructorTable.sort_values('Points',ascending=False)\n",
    "\n",
    "                             \n",
    "            "
   ]
  },
  {
   "cell_type": "markdown",
   "id": "af7b02c4",
   "metadata": {},
   "source": [
    "## Getting Race data for a specific track and excluding banned teams"
   ]
  },
  {
   "cell_type": "code",
   "execution_count": 6,
   "id": "ee138b33",
   "metadata": {},
   "outputs": [],
   "source": [
    "\n",
    "\n",
    "interesting_columns = ['Track','Position','Driver','Team','Points','Fastest Lap Time']\n",
    "\n",
    "def get_race_data(race):\n",
    "    _specific_race_data =race_data[(race_data['Track']== race) &(~race_data['Team'].isin(banned_teams))].filter(interesting_columns).copy()\n",
    "    \n",
    "    return _specific_race_data\n",
    "\n",
    "#specific_race_data = get_race_data(all_races[1])\n",
    "#specific_race_data"
   ]
  },
  {
   "cell_type": "markdown",
   "id": "29860f7b",
   "metadata": {},
   "source": [
    "## Redo positions"
   ]
  },
  {
   "cell_type": "code",
   "execution_count": 7,
   "id": "09d315c5",
   "metadata": {},
   "outputs": [],
   "source": [
    "def redo_positions(_specific_race_data):\n",
    "    \n",
    "    not_classified_count = _specific_race_data['Position'].tolist().count('NC')\n",
    "    drivers_in_race = len(_specific_race_data['Position']) - not_classified_count\n",
    "    new_positions = list(range(1,drivers_in_race+1)) + (['NC'] * not_classified_count)\n",
    "    _specific_race_data['Position']=new_positions\n",
    "    \n",
    "    return  _specific_race_data.copy()\n",
    "\n",
    "#specific_race_data = redo_positions(specific_race_data)\n"
   ]
  },
  {
   "cell_type": "markdown",
   "id": "d421d003",
   "metadata": {},
   "source": [
    "## Get Fastest Lap Driver"
   ]
  },
  {
   "cell_type": "code",
   "execution_count": 8,
   "id": "036bdd5c",
   "metadata": {},
   "outputs": [],
   "source": [
    "def get_fastest_driver(_specific_race_data):\n",
    "    fastest_lap = _specific_race_data['Fastest Lap Time'].sort_values().iloc[0]\n",
    "    _fastest_driver = _specific_race_data[(_specific_race_data['Fastest Lap Time'] == fastest_lap)]\n",
    "    return _fastest_driver\n",
    "#fastest_driver = get_fastest_driver(specific_race_data)"
   ]
  },
  {
   "cell_type": "markdown",
   "id": "7b1bbc29",
   "metadata": {},
   "source": [
    "## Get Points per driver"
   ]
  },
  {
   "cell_type": "code",
   "execution_count": 9,
   "id": "0a5ee9ea",
   "metadata": {},
   "outputs": [],
   "source": [
    "# This should be adjusted for sprints where points are different\n",
    "# The 100 at the end creates 100 0 point positions meaning this in theory supports 110 drivers before list size error\n",
    "\n",
    "points_race = [25,18,15,12,10,8,6,4,2,1]+([0]*100)\n",
    "\n",
    "\n",
    "def make_scoreboard(_specific_race_data, _fastest_driver):\n",
    "    not_classified_count = _specific_race_data['Position'].tolist().count('NC')\n",
    "    drivers_in_race = len(_specific_race_data['Position']) - not_classified_count\n",
    "    new_points = [0] * (not_classified_count + drivers_in_race)\n",
    "\n",
    "\n",
    "    # add points for all classified drivers\n",
    "    for i in range(drivers_in_race):\n",
    "        position = _specific_race_data.iloc[i]['Position']\n",
    "        new_points[i] = points_race[position-1]\n",
    "\n",
    "    \n",
    "\n",
    "\n",
    "    if(isinstance(_fastest_driver['Position'].iloc[0],int)   and _fastest_driver['Position'].iloc[0]<=10 ):\n",
    "        new_points[_fastest_driver['Position'].iloc[0]-1] +=1\n",
    "\n",
    "\n",
    "    _specific_race_data['Points'] = new_points\n",
    "    _specific_race_data = _specific_race_data.copy()\n",
    "    return _specific_race_data\n",
    "#specific_race_data = make_scoreboard(specific_race_data)"
   ]
  },
  {
   "cell_type": "markdown",
   "id": "0517f6bc",
   "metadata": {},
   "source": [
    "## Function for getting scoreboard per race"
   ]
  },
  {
   "cell_type": "code",
   "execution_count": 10,
   "id": "ebd9e7f7",
   "metadata": {},
   "outputs": [],
   "source": [
    "def scoreboard(race):\n",
    "    _race_data= get_race_data(race)\n",
    "    _race_data = redo_positions(_race_data)\n",
    "    __fastest_driver = get_fastest_driver(_race_data)\n",
    "    return make_scoreboard(_race_data,__fastest_driver).filter(['Driver','Team','Points']).set_index('Driver')\n",
    "\n",
    "\n"
   ]
  },
  {
   "cell_type": "code",
   "execution_count": 12,
   "id": "e465832c",
   "metadata": {},
   "outputs": [
    {
     "data": {
      "text/html": [
       "<div>\n",
       "<style scoped>\n",
       "    .dataframe tbody tr th:only-of-type {\n",
       "        vertical-align: middle;\n",
       "    }\n",
       "\n",
       "    .dataframe tbody tr th {\n",
       "        vertical-align: top;\n",
       "    }\n",
       "\n",
       "    .dataframe thead th {\n",
       "        text-align: right;\n",
       "    }\n",
       "</style>\n",
       "<table border=\"1\" class=\"dataframe\">\n",
       "  <thead>\n",
       "    <tr style=\"text-align: right;\">\n",
       "      <th></th>\n",
       "      <th>Points</th>\n",
       "    </tr>\n",
       "    <tr>\n",
       "      <th>Team</th>\n",
       "      <th></th>\n",
       "    </tr>\n",
       "  </thead>\n",
       "  <tbody>\n",
       "    <tr>\n",
       "      <th>Mercedes</th>\n",
       "      <td>409</td>\n",
       "    </tr>\n",
       "    <tr>\n",
       "      <th>Ferrari</th>\n",
       "      <td>377</td>\n",
       "    </tr>\n",
       "    <tr>\n",
       "      <th>Aston Martin Aramco Mercedes</th>\n",
       "      <td>331</td>\n",
       "    </tr>\n",
       "    <tr>\n",
       "      <th>McLaren Mercedes</th>\n",
       "      <td>241</td>\n",
       "    </tr>\n",
       "    <tr>\n",
       "      <th>Alpine Renault</th>\n",
       "      <td>133</td>\n",
       "    </tr>\n",
       "    <tr>\n",
       "      <th>Williams Mercedes</th>\n",
       "      <td>50</td>\n",
       "    </tr>\n",
       "    <tr>\n",
       "      <th>Alfa Romeo Ferrari</th>\n",
       "      <td>36</td>\n",
       "    </tr>\n",
       "    <tr>\n",
       "      <th>AlphaTauri Honda RBPT</th>\n",
       "      <td>28</td>\n",
       "    </tr>\n",
       "    <tr>\n",
       "      <th>Haas Ferrari</th>\n",
       "      <td>24</td>\n",
       "    </tr>\n",
       "    <tr>\n",
       "      <th>AlphaTauri Honda RPBT</th>\n",
       "      <td>0</td>\n",
       "    </tr>\n",
       "  </tbody>\n",
       "</table>\n",
       "</div>"
      ],
      "text/plain": [
       "                              Points\n",
       "Team                                \n",
       "Mercedes                         409\n",
       "Ferrari                          377\n",
       "Aston Martin Aramco Mercedes     331\n",
       "McLaren Mercedes                 241\n",
       "Alpine Renault                   133\n",
       "Williams Mercedes                 50\n",
       "Alfa Romeo Ferrari                36\n",
       "AlphaTauri Honda RBPT             28\n",
       "Haas Ferrari                      24\n",
       "AlphaTauri Honda RPBT              0"
      ]
     },
     "execution_count": 12,
     "metadata": {},
     "output_type": "execute_result"
    }
   ],
   "source": [
    "DriverTable = standings()\n",
    "\n",
    "for i in all_races:\n",
    "    DriverTable.add_to_standings(scoreboard(i))\n",
    "\n",
    "\n",
    "DriverTable.constructorTable"
   ]
  },
  {
   "cell_type": "code",
   "execution_count": null,
   "id": "db98988e",
   "metadata": {},
   "outputs": [],
   "source": []
  }
 ],
 "metadata": {
  "kernelspec": {
   "display_name": "Python 3 (ipykernel)",
   "language": "python",
   "name": "python3"
  },
  "language_info": {
   "codemirror_mode": {
    "name": "ipython",
    "version": 3
   },
   "file_extension": ".py",
   "mimetype": "text/x-python",
   "name": "python",
   "nbconvert_exporter": "python",
   "pygments_lexer": "ipython3",
   "version": "3.11.4"
  }
 },
 "nbformat": 4,
 "nbformat_minor": 5
}
